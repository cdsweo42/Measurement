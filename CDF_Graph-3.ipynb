{
 "cells": [
  {
   "cell_type": "code",
   "execution_count": null,
   "id": "db5668a8",
   "metadata": {},
   "outputs": [],
   "source": [
    "import json\n",
    "import pandas as pd\n",
    "from ripe.atlas.cousteau import (\n",
    "    AtlasResultsRequest\n",
    ")\n",
    "import matplotlib.pyplot as plt\n",
    "%matplotlib inline\n",
    "import numpy as np\n"
   ]
  },
  {
   "cell_type": "code",
   "execution_count": 6,
   "id": "3424712c",
   "metadata": {
    "scrolled": false
   },
   "outputs": [
    {
     "data": {
      "text/plain": [
       "<matplotlib.legend.Legend at 0x23e98a2fac0>"
      ]
     },
     "execution_count": 6,
     "metadata": {},
     "output_type": "execute_result"
    },
    {
     "data": {
      "image/png": "[encoded data removed]",
      "text/plain": [
       "<Figure size 432x288 with 1 Axes>"
      ]
     },
     "metadata": {
      "needs_background": "light"
     },
     "output_type": "display_data"
    }
   ],
   "source": [
    "kwargs = {\n",
    "    \"msm_id\": 38331308\n",
    "}\n",
    "\n",
    "is_success, results = AtlasResultsRequest(**kwargs).create()\n",
    "\n",
    "if is_success:\n",
    "    #print the json string\n",
    "    #print(results)\n",
    "\n",
    "    #df1 = pd.json_normalize(results)\n",
    "    #display(df1)\n",
    "    \n",
    "    \n",
    "    #for x, row in df1.iterrows():\n",
    "        #df1['result'][x] = pd.json_normalize(df1['result'][x])\n",
    "\n",
    "    \n",
    "    df2 = pd.DataFrame(results)\n",
    "    just_rtt = []\n",
    "\n",
    "    #print(df2[results])\n",
    "       \n",
    "    for x, row in df2.iterrows():\n",
    "        #df2['result'][x] = pd.json_normalize(df2['result'][x])\n",
    "        #df2['rtt'] = df2['result'][x].astype(float)\n",
    "        #for rtt in df2['result'][x]:\n",
    "            #for i in rtt:\n",
    "                #num=num+1\n",
    "                #just_rtt.append(df2['result'][x][rtt])\n",
    "            \n",
    "        just_rtt.append(df2['min'])\n",
    "        just_rtt.append(df2['max'])\n",
    "        just_rtt.append(df2['avg'])\n",
    "        #df2['rtt'].plot(x='', y='RTT', title = \"RTT Results\", grid = True)\n",
    "    \n",
    "    #print(just_rtt)\n",
    "    \n",
    "data = np.array(just_rtt)\n",
    "\n",
    "\n",
    "count, bins_count = np.histogram(data, bins=40)\n",
    "pdf = count / sum(count)\n",
    "\n",
    "cdf = np.cumsum(pdf)\n",
    "\n",
    "#plt.plot(bins_count[1:], pdf, color=\"red\", label=\"PDF\")\n",
    "plt.plot(bins_count[1:], cdf, label=\"CDF\")\n",
    "plt.axis([0,140,0,1.0])\n",
    "plt.legend()\n"
   ]
  },
  {
   "cell_type": "code",
   "execution_count": 7,
   "id": "df110678",
   "metadata": {},
   "outputs": [
    {
     "data": {
      "text/plain": [
       "<matplotlib.legend.Legend at 0x23e98a92040>"
      ]
     },
     "execution_count": 7,
     "metadata": {},
     "output_type": "execute_result"
    },
    {
     "data": {
      "image/png": "[encoded data removed]",
      "text/plain": [
       "<Figure size 432x288 with 1 Axes>"
      ]
     },
     "metadata": {
      "needs_background": "light"
     },
     "output_type": "display_data"
    }
   ],
   "source": [
    "kwargs = {\n",
    "    \"msm_id\": 34880109\n",
    "}\n",
    "\n",
    "is_success, results = AtlasResultsRequest(**kwargs).create()\n",
    "\n",
    "if is_success:\n",
    "    #print the json string\n",
    "    #print(results)\n",
    "\n",
    "    df1 = pd.json_normalize(results)\n",
    "    #display(df1)\n",
    "    \n",
    "    \n",
    "    #for x, row in df1.iterrows():\n",
    "        #df1['result'][x] = pd.json_normalize(df1['result'][x])\n",
    "\n",
    "    \n",
    "    df2 = pd.DataFrame(results)\n",
    "    sent = []\n",
    "    received = []\n",
    "\n",
    "    #print(df2[results])\n",
    "       \n",
    "    for x, row in df2.iterrows():\n",
    "        #df2['result'][x] = pd.json_normalize(df2['result'][x])\n",
    "        #df2['rtt'] = df2['result'][x].astype(float)\n",
    "        #for rtt in df2['result'][x]:\n",
    "            #for i in rtt:\n",
    "                #num=num+1\n",
    "                #just_rtt.append(df2['result'][x][rtt])\n",
    "            \n",
    "        sent.append(df2['sent'])\n",
    "        received.append(df2['rcvd'])\n",
    "        \n",
    "        #df2['rtt'].plot(x='', y='RTT', title = \"RTT Results\", grid = True)\n",
    "        \n",
    "    total_loss = []\n",
    "    zip_object = zip(sent, received)\n",
    "    for sent, received in zip_object:\n",
    "        total_loss.append(sent-received)\n",
    "    \n",
    "    #print(just_rtt)\n",
    "    \n",
    "data = np.array(total_loss)\n",
    "\n",
    "\n",
    "count, bins_count = np.histogram(data, bins=40)\n",
    "pdf = count / sum(count)\n",
    "\n",
    "cdf = np.cumsum(pdf)\n",
    "\n",
    "#plt.plot(bins_count[1:], pdf, color=\"red\", label=\"PDF\")\n",
    "plt.plot(bins_count[1:], cdf, label=\"CDF\")\n",
    "plt.axis([0,50,0,1.0])\n",
    "plt.legend()"
   ]
  },
  {
   "cell_type": "code",
   "execution_count": null,
   "id": "ce960296",
   "metadata": {
    "scrolled": true
   },
   "outputs": [],
   "source": [
    "kwargs = {\n",
    "    \"msm_id\": 38384555\n",
    "}\n",
    "\n",
    "is_success, results = AtlasResultsRequest(**kwargs).create()\n",
    "\n",
    "if is_success:\n",
    "    #print the json string\n",
    "    #print(results)\n",
    "\n",
    "    df1 = pd.json_normalize(results)\n",
    "    #prototype path to an individual rtt\n",
    "#    display(df1)\n",
    "#    display(df1['result'][1][1]['result'][1]['rtt'])\n",
    "#    df2 = df1['result'][1] #traceroute level\n",
    "#    df2 = pd.json_normalize(df2) #hops level\n",
    "#    df3 = df2['result'][1]\n",
    "#    df3 = pd.json_normalize(df3) #1 hop level\n",
    "    #df2['rtt']\n",
    "#    display(df3['rtt'])\n",
    "    #display(df1['result'])\n",
    "    count = 0\n",
    "    for x in df1['result']:\n",
    "        \n",
    "        count+=1\n",
    "     #display(df1['result'][traceroute])\n",
    "        df2[x] = pd.json_normalize(df1['result'][x])\n",
    "        #display(df2)\n",
    "    print(count)\n",
    "    \n",
    "    display(df2)\n",
    "    \n",
    "#    just_rtt = []\n",
    "    \n",
    "    \n",
    "#    for x, row in df1.iterrows():\n",
    "        #for each row\n",
    "#        df1['result'][x] = pd.json_normalize(df1['result'][x])\n",
    " #       display(df1['result'][x])\n",
    "        \n",
    "        #PROBLEMS START HERE vv\n",
    "  #      for hop in df1['result'][x]:\n",
    "            #for each hop\n",
    "   #         df1['result'][x][hop] = pd.json_normalize(df1['result'][x][hop])\n",
    "   #         display(df1['result'][hop]['result'])\n",
    "            \n",
    "    #        for r in df1['result'][x][hop]:\n",
    "                #for hop result (collective)\n",
    "     #           df1['result'][x][hop][r] = pd.json_normalize(df1['result'][x][hop][r])\n",
    "                \n",
    "      #          for y, row in df1['result'][x][hop][r].iterrows():\n",
    "       #             #for each hop result (individual)\n",
    "        #            df1['result'][x][hop][r][y] = pd.json_normalize(df1['result'][x][hop][r][y])\n",
    "                    \n",
    "         #           for z in df1['result'][x][hop][r][y]:\n",
    "                        #for each rtt\n",
    "          #              df1['result'][x][hop][r][y][z] = pd.json_normalize(df1['result'][x][hop][r][y][z])\n",
    "                        #append rtt to a list of rtts\n",
    "           #             just_rtt.append(df1['result'][x][hop][r][y][z])\n",
    "                        #display(df1['result'][x][hop][r][y][z])\n",
    "        \n",
    "            \n",
    "#data = np.array(just_rtt)\n",
    "\n",
    "\n",
    "#count, bins_count = np.histogram(data, bins=25)\n",
    "#pdf = count / sum(count)\n",
    "\n",
    "#cdf = np.cumsum(pdf)\n",
    "\n",
    "\n",
    "#plt.plot(bins_count[1:], pdf, color=\"red\", label=\"PDF\")\n",
    "#plt.plot(bins_count[1:], cdf, label=\"CDF\")\n",
    "#plt.legend()\n",
    "            "
   ]
  },
  {
   "cell_type": "code",
   "execution_count": null,
   "id": "ac2df488",
   "metadata": {},
   "outputs": [],
   "source": [
    "kwargs = {\n",
    "    \"msm_id\": 38384555\n",
    "}\n",
    "\n",
    "is_success, results = AtlasResultsRequest(**kwargs).create()\n",
    "\n",
    "if is_success:\n",
    "    #print the json string\n",
    "    #print(results)\n",
    "\n",
    "    df1 = pd.json_normalize(results)\n",
    "    #display(df1['result'][1][1]['result'][1]['rtt'])\n",
    "    \n",
    "    hops = 0\n",
    "    hops_per_run = []\n",
    "    \n",
    "    for x, row in df1.iterrows():\n",
    "        df1['result'][x] = pd.json_normalize(df1['result'][x])\n",
    "        for hop, row in df1['result'][x].iterrows():\n",
    "            #df1['result'][x][hop] = pd.json_normalize(df1['result'][x][hop])\n",
    "            #display(df1['result'][x]['hop'])\n",
    "            hops = hops + 1\n",
    "            \n",
    "        hops_per_run.append(hops)\n",
    "        hops = 0\n",
    "    \n",
    "    print(hops_per_run)\n",
    "            \n",
    "data = np.array(hops_per_run)\n",
    "\n",
    "\n",
    "count, bins_count = np.histogram(data, bins=25)\n",
    "pdf = count / sum(count)\n",
    "\n",
    "cdf = np.cumsum(pdf)\n",
    "\n",
    "\n",
    "#plt.plot(bins_count[1:], pdf, color=\"red\", label=\"PDF\")\n",
    "plt.plot(bins_count[1:], cdf, label=\"CDF\")\n",
    "plt.axis([0,25,0,1.0])\n",
    "plt.legend()\n",
    "            "
   ]
  },
  {
   "cell_type": "code",
   "execution_count": null,
   "id": "efb98dfd",
   "metadata": {},
   "outputs": [],
   "source": []
  }
 ],
 "metadata": {
  "kernelspec": {
   "display_name": "Python 3 (ipykernel)",
   "language": "python",
   "name": "python3"
  },
  "language_info": {
   "codemirror_mode": {
    "name": "ipython",
    "version": 3
   },
   "file_extension": ".py",
   "mimetype": "text/x-python",
   "name": "python",
   "nbconvert_exporter": "python",
   "pygments_lexer": "ipython3",
   "version": "3.9.7"
  }
 },
 "nbformat": 4,
 "nbformat_minor": 5
}
