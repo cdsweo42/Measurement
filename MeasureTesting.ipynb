{
 "cells": [
  {
   "cell_type": "code",
   "execution_count": 2,
   "id": "44bf3a84",
   "metadata": {},
   "outputs": [],
   "source": [
    "import numpy as np\n",
    "import matplotlib.pyplot as plt\n",
    "import pandas as pd\n",
    "import json\n",
    "\n",
    "from ripe.atlas.cousteau import (\n",
    "    AtlasResultsRequest\n",
    ")"
   ]
  },
  {
   "cell_type": "code",
   "execution_count": 10,
   "id": "b5699af7",
   "metadata": {
    "scrolled": true
   },
   "outputs": [
    {
     "name": "stdout",
     "output_type": "stream",
     "text": [
      "Insert Measurement ID: 38365667\n",
      "[{'fw': 5040, 'mver': '2.4.1', 'lts': 19, 'dst_name': '142.251.39.110', 'af': 4, 'dst_addr': '142.251.39.110', 'src_addr': '172.16.5.2', 'proto': 'ICMP', 'ttl': 114, 'size': 48, 'result': [{'rtt': 114.186333}, {'rtt': 113.427208}, {'rtt': 113.405375}], 'dup': 0, 'rcvd': 3, 'sent': 3, 'min': 113.405375, 'max': 114.186333, 'avg': 113.672972, 'msm_id': 38365667, 'prb_id': 55103, 'timestamp': 1644364932, 'msm_name': 'Ping', 'from': '184.99.181.127', 'type': 'ping', 'group_id': 38365667, 'step': None, 'stored_timestamp': 1644364935}]\n"
     ]
    },
    {
     "data": {
      "text/html": [
       "<div>\n",
       "<style scoped>\n",
       "    .dataframe tbody tr th:only-of-type {\n",
       "        vertical-align: middle;\n",
       "    }\n",
       "\n",
       "    .dataframe tbody tr th {\n",
       "        vertical-align: top;\n",
       "    }\n",
       "\n",
       "    .dataframe thead th {\n",
       "        text-align: right;\n",
       "    }\n",
       "</style>\n",
       "<table border=\"1\" class=\"dataframe\">\n",
       "  <thead>\n",
       "    <tr style=\"text-align: right;\">\n",
       "      <th></th>\n",
       "      <th>fw</th>\n",
       "      <th>mver</th>\n",
       "      <th>lts</th>\n",
       "      <th>dst_name</th>\n",
       "      <th>af</th>\n",
       "      <th>dst_addr</th>\n",
       "      <th>src_addr</th>\n",
       "      <th>proto</th>\n",
       "      <th>ttl</th>\n",
       "      <th>size</th>\n",
       "      <th>...</th>\n",
       "      <th>avg</th>\n",
       "      <th>msm_id</th>\n",
       "      <th>prb_id</th>\n",
       "      <th>timestamp</th>\n",
       "      <th>msm_name</th>\n",
       "      <th>from</th>\n",
       "      <th>type</th>\n",
       "      <th>group_id</th>\n",
       "      <th>step</th>\n",
       "      <th>stored_timestamp</th>\n",
       "    </tr>\n",
       "  </thead>\n",
       "  <tbody>\n",
       "    <tr>\n",
       "      <th>0</th>\n",
       "      <td>5040</td>\n",
       "      <td>2.4.1</td>\n",
       "      <td>19</td>\n",
       "      <td>142.251.39.110</td>\n",
       "      <td>4</td>\n",
       "      <td>142.251.39.110</td>\n",
       "      <td>172.16.5.2</td>\n",
       "      <td>ICMP</td>\n",
       "      <td>114</td>\n",
       "      <td>48</td>\n",
       "      <td>...</td>\n",
       "      <td>113.672972</td>\n",
       "      <td>38365667</td>\n",
       "      <td>55103</td>\n",
       "      <td>1644364932</td>\n",
       "      <td>Ping</td>\n",
       "      <td>184.99.181.127</td>\n",
       "      <td>ping</td>\n",
       "      <td>38365667</td>\n",
       "      <td>None</td>\n",
       "      <td>1644364935</td>\n",
       "    </tr>\n",
       "  </tbody>\n",
       "</table>\n",
       "<p>1 rows × 26 columns</p>\n",
       "</div>"
      ],
      "text/plain": [
       "     fw   mver  lts        dst_name  af        dst_addr    src_addr proto  \\\n",
       "0  5040  2.4.1   19  142.251.39.110   4  142.251.39.110  172.16.5.2  ICMP   \n",
       "\n",
       "   ttl  size  ...         avg    msm_id  prb_id   timestamp  msm_name  \\\n",
       "0  114    48  ...  113.672972  38365667   55103  1644364932      Ping   \n",
       "\n",
       "             from  type  group_id  step  stored_timestamp  \n",
       "0  184.99.181.127  ping  38365667  None        1644364935  \n",
       "\n",
       "[1 rows x 26 columns]"
      ]
     },
     "metadata": {},
     "output_type": "display_data"
    }
   ],
   "source": [
    "x = int(input(\"Insert Measurement ID: \"))\n",
    "\n",
    "kwargs = {\n",
    "    \"msm_id\": x\n",
    "}\n",
    "\n",
    "is_success, results = AtlasResultsRequest(**kwargs).create()\n",
    "\n",
    "if is_success:\n",
    "    print(results)\n",
    "\n",
    "    df1 = pd.json_normalize(results)\n",
    "    display(df1)"
   ]
  },
  {
   "cell_type": "code",
   "execution_count": 4,
   "id": "46754cf4",
   "metadata": {},
   "outputs": [
    {
     "data": {
      "image/png": "[encoded data removed]",
      "text/plain": [
       "<Figure size 432x288 with 1 Axes>"
      ]
     },
     "metadata": {
      "needs_background": "light"
     },
     "output_type": "display_data"
    }
   ],
   "source": [
    "N = 100\n",
    "Z = np.random.normal(size = N)\n",
    "X2 = np.sort(Z)\n",
    "F2 = np.array(range(N))/float(N)\n",
    "plt.plot(X2, F2)\n",
    "plt.show()"
   ]
  }
 ],
 "metadata": {
  "kernelspec": {
   "display_name": "Python 3 (ipykernel)",
   "language": "python",
   "name": "python3"
  },
  "language_info": {
   "codemirror_mode": {
    "name": "ipython",
    "version": 3
   },
   "file_extension": ".py",
   "mimetype": "text/x-python",
   "name": "python",
   "nbconvert_exporter": "python",
   "pygments_lexer": "ipython3",
   "version": "3.9.7"
  }
 },
 "nbformat": 4,
 "nbformat_minor": 5
}
